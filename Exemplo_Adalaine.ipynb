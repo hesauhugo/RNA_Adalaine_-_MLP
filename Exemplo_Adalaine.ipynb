{
 "cells": [
  {
   "cell_type": "code",
   "execution_count": 1,
   "metadata": {
    "dotnet_interactive": {
     "language": "csharp"
    },
    "polyglot_notebook": {
     "kernelName": "csharp"
    },
    "vscode": {
     "languageId": "polyglot-notebook"
    }
   },
   "outputs": [],
   "source": [
    "// iniciando a matriz de entradas\n",
    "// lembrando que c# começa em zero por isso a variável c para corrigir o índice\n",
    "int c = 1;\n",
    "int n_linhas = 4;\n",
    "int n_colunas = 2;\n",
    "double[,] x = new double[n_linhas,n_colunas];\n",
    "x[1-c,1-c]=1;\n",
    "x[1-c,2-c]=1;\n",
    "x[2-c,1-c]=1;\n",
    "x[2-c,2-c]=-1;\n",
    "x[3-c,1-c]=-1;\n",
    "x[3-c,2-c]=1;\n",
    "x[4-c,1-c]=-1;\n",
    "x[4-c,2-c]=-1;\n",
    "\n",
    "\n",
    "//iniciando vetor da variável resposta\n",
    "double[] d = new double[n_linhas];\n",
    "d[1-c]=1;\n",
    "d[2-c]=1;\n",
    "d[3-c]=1;\n",
    "d[4-c]=-1;\n",
    "\n",
    "//delta alpha e theta iniciais\n",
    "double alpha = 0.5;\n",
    "double theta = 0;\n",
    "\n",
    "//iniciando o vetor de pesos \n",
    "double[] w = new double[n_colunas];\n",
    "w[1-c]=0.3;\n",
    "w[2-c] = 0.5;\n",
    "\n",
    "//Váriaveis necessárias para cálculo da atualização\n",
    "double yEstrela =0;\n",
    "double y=0;"
   ]
  },
  {
   "cell_type": "code",
   "execution_count": 2,
   "metadata": {
    "dotnet_interactive": {
     "language": "csharp"
    },
    "polyglot_notebook": {
     "kernelName": "csharp"
    },
    "vscode": {
     "languageId": "polyglot-notebook"
    }
   },
   "outputs": [],
   "source": [
    "public double ErroQuadraticoMedio(int _n_linhas, int _n_colunas, double[,] _x, double[] _d, double[] _w ,double _theta,double _alpha){\n",
    "    \n",
    "    double somaQuadradoDaDiferenca = 0;\n",
    "\n",
    "    int c = 1;\n",
    "    \n",
    "    for(int linha=0;linha<_n_linhas;linha++){\n",
    "                \n",
    "        double y =0;\n",
    "        double yEstrela=0;\n",
    "        Console.WriteLine($\"Entrada_ErroQuadradoMedio:{linha+c}\");\n",
    "        //calculando somatório das variáveis da entrada\n",
    "        for(int coluna=0;coluna<_n_colunas;coluna++){\n",
    "\n",
    "            yEstrela += _x[linha,coluna]*_w[coluna];\n",
    "\n",
    "        }\n",
    "\n",
    "        //adicionando theta ao somatório\n",
    "        yEstrela = yEstrela + _theta;\n",
    "        Console.WriteLine($\"yEstrela_ErroQuadradoMedio:{yEstrela}\");\n",
    "\n",
    "        if(yEstrela>=0){\n",
    "            y=1;\n",
    "        }else{\n",
    "            y=-1;\n",
    "        }\n",
    "\n",
    "        somaQuadradoDaDiferenca+= Math.Pow((_d[linha]-y),2);\n",
    "\n",
    "    }\n",
    "\n",
    "    Console.WriteLine($\"ErroQuadradoMedio:{somaQuadradoDaDiferenca/2}\");\n",
    "    return somaQuadradoDaDiferenca/2;\n",
    "\n",
    "}"
   ]
  },
  {
   "cell_type": "code",
   "execution_count": 3,
   "metadata": {
    "dotnet_interactive": {
     "language": "csharp"
    },
    "polyglot_notebook": {
     "kernelName": "csharp"
    },
    "vscode": {
     "languageId": "polyglot-notebook"
    }
   },
   "outputs": [
    {
     "name": "stdout",
     "output_type": "stream",
     "text": [
      "Iteração 1\n",
      "Entrada:1\n",
      "yEstrela:0,8\n",
      "x_0_0:1, w_0:0,3\n",
      "w*_0:0,39999999999999997\n",
      "x_0_1:1, w_1:0,5\n",
      "w*_1:0,6\n",
      "theta*:0,09999999999999998\n",
      "Entrada:2\n",
      "yEstrela:-0,10000000000000003\n",
      "x_1_0:1, w_0:0,39999999999999997\n",
      "w*_0:0,95\n",
      "x_1_1:-1, w_1:0,6\n",
      "w*_1:0,04999999999999993\n",
      "theta*:0,65\n",
      "Entrada:3\n",
      "yEstrela:-0,25\n",
      "x_2_0:-1, w_0:0,95\n",
      "w*_0:0,32499999999999996\n",
      "x_2_1:1, w_1:0,04999999999999993\n",
      "w*_1:0,6749999999999999\n",
      "theta*:1,275\n",
      "Entrada:4\n",
      "yEstrela:0,275\n",
      "x_3_0:-1, w_0:0,32499999999999996\n",
      "w*_0:0,9624999999999999\n",
      "x_3_1:-1, w_1:0,6749999999999999\n",
      "w*_1:1,3125\n",
      "theta*:0,6375\n",
      "Entrada_ErroQuadradoMedio:1\n",
      "yEstrela_ErroQuadradoMedio:2,9124999999999996\n",
      "Entrada_ErroQuadradoMedio:2\n",
      "yEstrela_ErroQuadradoMedio:0,28749999999999987\n",
      "Entrada_ErroQuadradoMedio:3\n",
      "yEstrela_ErroQuadradoMedio:0,9875\n",
      "Entrada_ErroQuadradoMedio:4\n",
      "yEstrela_ErroQuadradoMedio:-1,6375\n",
      "ErroQuadradoMedio:0\n"
     ]
    }
   ],
   "source": [
    "int n_iteracoes = 2;\n",
    "int contagem_iteracoes = 1;\n",
    "bool continuarLoop = true;\n",
    "double erroAceito= 10;\n",
    "\n",
    "while(contagem_iteracoes<=n_iteracoes && continuarLoop ){\n",
    "\n",
    "    Console.WriteLine($\"Iteração {contagem_iteracoes}\");\n",
    "\n",
    "    for(int linha=0;linha<n_linhas;linha++){\n",
    "        \n",
    "        Console.WriteLine($\"Entrada:{linha+c}\");\n",
    "\n",
    "        //zerando variáveis\n",
    "        yEstrela=0;\n",
    "        \n",
    "        //calculando somatório das variáveis da entrada\n",
    "        for(int coluna=0;coluna<n_colunas;coluna++){\n",
    "\n",
    "            yEstrela += x[linha,coluna]*w[coluna];\n",
    "\n",
    "        }\n",
    "\n",
    "        //adicionando theta ao somatório\n",
    "        yEstrela = yEstrela + theta;\n",
    "        Console.WriteLine($\"yEstrela:{yEstrela}\");\n",
    "\n",
    "        //calculando somatório das variáveis da entrada\n",
    "        for(int coluna=0;coluna<n_colunas;coluna++){\n",
    "            \n",
    "            Console.WriteLine($\"x_{linha}_{coluna}:{x[linha,coluna]}, w_{coluna}:{w[coluna]}\");\n",
    "            \n",
    "            //Aplica o gradiente e atualiza w\n",
    "            w[coluna] = w[coluna] + alpha*(d[linha]-yEstrela)*x[linha,coluna];\n",
    "            Console.WriteLine($\"w*_{coluna}:{w[coluna]}\");\n",
    "\n",
    "        }\n",
    "\n",
    "        //aplica o gradiente e atualiza theta\n",
    "        theta = theta + alpha*(d[linha]-yEstrela);\n",
    "        Console.WriteLine($\"theta*:{theta}\");\n",
    "    }\n",
    "\n",
    "    continuarLoop = !(ErroQuadraticoMedio(n_linhas, n_colunas, x, d, w ,theta,alpha) < erroAceito);\n",
    "    contagem_iteracoes++;\n",
    "    \n",
    "}\n"
   ]
  },
  {
   "cell_type": "markdown",
   "metadata": {},
   "source": [
    "# Referências\n",
    "Matéria de metaheurísticas e aplicações - PPGMNE\n",
    "\n",
    "Siqueira, P.H., \"Metaheurísticas e Aplicações\". Disponível em: <https://paulohscwb.github.io/metaheuristicas/>, Janeiro de 2021.\n",
    "\n",
    "### Autor\n",
    "<a href=\"https://www.linkedin.com/in/hesauhugocavalcanti/\">Hesau Hugo</a>\n",
    "\n",
    "### Professor\n",
    "<a href=\"https://www.linkedin.com/in/paulo-henrique-siqueira-83080130/\">Paulo Henrique Siqueira</a>"
   ]
  }
 ],
 "metadata": {
  "language_info": {
   "name": "python"
  }
 },
 "nbformat": 4,
 "nbformat_minor": 2
}
